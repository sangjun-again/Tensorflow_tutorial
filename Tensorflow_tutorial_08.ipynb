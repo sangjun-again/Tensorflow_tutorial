{
 "cells": [
  {
   "cell_type": "code",
   "execution_count": 11,
   "metadata": {},
   "outputs": [],
   "source": [
    "import pandas as pd\n",
    "import os"
   ]
  },
  {
   "cell_type": "code",
   "execution_count": 12,
   "metadata": {},
   "outputs": [],
   "source": [
    "SEQ_LEN = 60\n",
    "FUTURE_PERIOD_PREDICT = 3\n",
    "RATIO_TO_PREDICT = 'LTC-USD'"
   ]
  },
  {
   "cell_type": "code",
   "execution_count": 17,
   "metadata": {},
   "outputs": [],
   "source": [
    "def classify(current, future):\n",
    "    if float(future) > float(current):\n",
    "        return 1\n",
    "    else:\n",
    "        return 0"
   ]
  },
  {
   "cell_type": "code",
   "execution_count": 2,
   "metadata": {},
   "outputs": [
    {
     "data": {
      "text/html": [
       "<div>\n",
       "<style scoped>\n",
       "    .dataframe tbody tr th:only-of-type {\n",
       "        vertical-align: middle;\n",
       "    }\n",
       "\n",
       "    .dataframe tbody tr th {\n",
       "        vertical-align: top;\n",
       "    }\n",
       "\n",
       "    .dataframe thead th {\n",
       "        text-align: right;\n",
       "    }\n",
       "</style>\n",
       "<table border=\"1\" class=\"dataframe\">\n",
       "  <thead>\n",
       "    <tr style=\"text-align: right;\">\n",
       "      <th></th>\n",
       "      <th>times</th>\n",
       "      <th>low</th>\n",
       "      <th>high</th>\n",
       "      <th>open</th>\n",
       "      <th>close</th>\n",
       "      <th>volume</th>\n",
       "    </tr>\n",
       "  </thead>\n",
       "  <tbody>\n",
       "    <tr>\n",
       "      <th>0</th>\n",
       "      <td>1528968660</td>\n",
       "      <td>96.580002</td>\n",
       "      <td>96.589996</td>\n",
       "      <td>96.589996</td>\n",
       "      <td>96.580002</td>\n",
       "      <td>9.647200</td>\n",
       "    </tr>\n",
       "    <tr>\n",
       "      <th>1</th>\n",
       "      <td>1528968720</td>\n",
       "      <td>96.449997</td>\n",
       "      <td>96.669998</td>\n",
       "      <td>96.589996</td>\n",
       "      <td>96.660004</td>\n",
       "      <td>314.387024</td>\n",
       "    </tr>\n",
       "    <tr>\n",
       "      <th>2</th>\n",
       "      <td>1528968780</td>\n",
       "      <td>96.470001</td>\n",
       "      <td>96.570000</td>\n",
       "      <td>96.570000</td>\n",
       "      <td>96.570000</td>\n",
       "      <td>77.129799</td>\n",
       "    </tr>\n",
       "    <tr>\n",
       "      <th>3</th>\n",
       "      <td>1528968840</td>\n",
       "      <td>96.449997</td>\n",
       "      <td>96.570000</td>\n",
       "      <td>96.570000</td>\n",
       "      <td>96.500000</td>\n",
       "      <td>7.216067</td>\n",
       "    </tr>\n",
       "    <tr>\n",
       "      <th>4</th>\n",
       "      <td>1528968900</td>\n",
       "      <td>96.279999</td>\n",
       "      <td>96.540001</td>\n",
       "      <td>96.500000</td>\n",
       "      <td>96.389999</td>\n",
       "      <td>524.539978</td>\n",
       "    </tr>\n",
       "  </tbody>\n",
       "</table>\n",
       "</div>"
      ],
      "text/plain": [
       "        times        low       high       open      close      volume\n",
       "0  1528968660  96.580002  96.589996  96.589996  96.580002    9.647200\n",
       "1  1528968720  96.449997  96.669998  96.589996  96.660004  314.387024\n",
       "2  1528968780  96.470001  96.570000  96.570000  96.570000   77.129799\n",
       "3  1528968840  96.449997  96.570000  96.570000  96.500000    7.216067\n",
       "4  1528968900  96.279999  96.540001  96.500000  96.389999  524.539978"
      ]
     },
     "execution_count": 2,
     "metadata": {},
     "output_type": "execute_result"
    }
   ],
   "source": [
    "df = pd.read_csv('crypto_data/LTC-USD.csv', names = ['times', 'low', 'high', 'open', 'close', 'volume'])\n",
    "\n",
    "df.head()"
   ]
  },
  {
   "cell_type": "code",
   "execution_count": 22,
   "metadata": {},
   "outputs": [
    {
     "name": "stdout",
     "output_type": "stream",
     "text": [
      "            BTC-USD_close  BTC-USD_volume\n",
      "times                                    \n",
      "1528968660    6489.549805        0.587100\n",
      "1528968720    6487.379883        7.706374\n",
      "1528968780    6479.410156        3.088252\n",
      "1528968840    6479.410156        1.404100\n",
      "1528968900    6479.979980        0.753000\n",
      "            LTC-USD_close  LTC-USD_volume\n",
      "times                                    \n",
      "1528968660      96.580002        9.647200\n",
      "1528968720      96.660004      314.387024\n",
      "1528968780      96.570000       77.129799\n",
      "1528968840      96.500000        7.216067\n",
      "1528968900      96.389999      524.539978\n",
      "            ETH-USD_close  ETH-USD_volume\n",
      "times                                    \n",
      "1528968720      486.01001       26.019083\n",
      "1528968780      486.00000        8.449400\n",
      "1528968840      485.75000       26.994646\n",
      "1528968900      486.00000       77.355759\n",
      "1528968960      486.00000        7.503300\n",
      "            BCH-USD_close  BCH-USD_volume\n",
      "times                                    \n",
      "1528968660     871.719971        5.675361\n",
      "1528968720     870.859985       26.856577\n",
      "1528968780     870.099976        1.124300\n",
      "1528968840     870.789978        1.749862\n",
      "1528968900     870.000000        1.680500\n"
     ]
    }
   ],
   "source": [
    "main_df = pd.DataFrame()\n",
    "\n",
    "ratios = ['BTC-USD', 'LTC-USD', 'ETH-USD', 'BCH-USD']\n",
    "for ratio in ratios:\n",
    "    dataset = f'crypto_data/{ratio}.csv'\n",
    "    \n",
    "    df = pd.read_csv(dataset, names = ['times', 'low', 'high', 'open', 'close', 'volume'])\n",
    "    #print(df.head())\n",
    "    df.rename(columns = {'close':f'{ratio}_close', 'volume':f'{ratio}_volume'}, inplace = True)\n",
    "    \n",
    "    df.set_index(\"times\", inplace = True)\n",
    "    df = df[[f'{ratio}_close', f'{ratio}_volume']]\n",
    "    \n",
    "    print(df.head())\n",
    "    \n",
    "    if len(main_df) == 0:\n",
    "        main_df = df\n",
    "        \n",
    "    else:\n",
    "        main_df = main_df.join(df)\n",
    "        \n"
   ]
  },
  {
   "cell_type": "code",
   "execution_count": 23,
   "metadata": {},
   "outputs": [],
   "source": [
    "main_df['future'] = main_df[f'{RATIO_TO_PREDICT}_close'].shift(-FUTURE_PERIOD_PREDICT)"
   ]
  },
  {
   "cell_type": "code",
   "execution_count": 24,
   "metadata": {},
   "outputs": [
    {
     "name": "stdout",
     "output_type": "stream",
     "text": [
      "            BTC-USD_close  BTC-USD_volume  LTC-USD_close  LTC-USD_volume  \\\n",
      "times                                                                      \n",
      "1528968660    6489.549805        0.587100      96.580002        9.647200   \n",
      "1528968720    6487.379883        7.706374      96.660004      314.387024   \n",
      "1528968780    6479.410156        3.088252      96.570000       77.129799   \n",
      "1528968840    6479.410156        1.404100      96.500000        7.216067   \n",
      "1528968900    6479.979980        0.753000      96.389999      524.539978   \n",
      "\n",
      "            ETH-USD_close  ETH-USD_volume  BCH-USD_close  BCH-USD_volume  \\\n",
      "times                                                                      \n",
      "1528968660            NaN             NaN     871.719971        5.675361   \n",
      "1528968720      486.01001       26.019083     870.859985       26.856577   \n",
      "1528968780      486.00000        8.449400     870.099976        1.124300   \n",
      "1528968840      485.75000       26.994646     870.789978        1.749862   \n",
      "1528968900      486.00000       77.355759     870.000000        1.680500   \n",
      "\n",
      "               future  \n",
      "times                  \n",
      "1528968660  96.500000  \n",
      "1528968720  96.389999  \n",
      "1528968780  96.519997  \n",
      "1528968840  96.440002  \n",
      "1528968900  96.470001  \n"
     ]
    }
   ],
   "source": [
    "print(main_df.head())"
   ]
  },
  {
   "cell_type": "code",
   "execution_count": 15,
   "metadata": {},
   "outputs": [
    {
     "name": "stdout",
     "output_type": "stream",
     "text": [
      "            LTC-USD_close     future\n",
      "times                               \n",
      "1528968660      96.580002  96.500000\n",
      "1528968720      96.660004  96.389999\n",
      "1528968780      96.570000  96.519997\n",
      "1528968840      96.500000  96.440002\n",
      "1528968900      96.389999  96.470001\n",
      "1528968960      96.519997  96.400002\n",
      "1528969020      96.440002  96.400002\n",
      "1528969080      96.470001  96.400002\n",
      "1528969140      96.400002  96.400002\n",
      "1528969200      96.400002  96.400002\n"
     ]
    }
   ],
   "source": [
    "print(main_df[[f'{RATIO_TO_PREDICT}_close', 'future']].head(10))"
   ]
  },
  {
   "cell_type": "code",
   "execution_count": 18,
   "metadata": {},
   "outputs": [],
   "source": [
    "main_df['target'] = list(map(classify, main_df[f'{RATIO_TO_PREDICT}_close'], main_df['future']))"
   ]
  },
  {
   "cell_type": "code",
   "execution_count": 19,
   "metadata": {},
   "outputs": [
    {
     "name": "stdout",
     "output_type": "stream",
     "text": [
      "            LTC-USD_close     future  target\n",
      "times                                       \n",
      "1528968660      96.580002  96.500000       0\n",
      "1528968720      96.660004  96.389999       0\n",
      "1528968780      96.570000  96.519997       0\n",
      "1528968840      96.500000  96.440002       0\n",
      "1528968900      96.389999  96.470001       1\n",
      "1528968960      96.519997  96.400002       0\n",
      "1528969020      96.440002  96.400002       0\n",
      "1528969080      96.470001  96.400002       0\n",
      "1528969140      96.400002  96.400002       0\n",
      "1528969200      96.400002  96.400002       0\n"
     ]
    }
   ],
   "source": [
    "print(main_df[[f'{RATIO_TO_PREDICT}_close', 'future', 'target']].head(10))"
   ]
  },
  {
   "cell_type": "code",
   "execution_count": null,
   "metadata": {},
   "outputs": [],
   "source": []
  }
 ],
 "metadata": {
  "kernelspec": {
   "display_name": "Python 3",
   "language": "python",
   "name": "python3"
  },
  "language_info": {
   "codemirror_mode": {
    "name": "ipython",
    "version": 3
   },
   "file_extension": ".py",
   "mimetype": "text/x-python",
   "name": "python",
   "nbconvert_exporter": "python",
   "pygments_lexer": "ipython3",
   "version": "3.7.0"
  }
 },
 "nbformat": 4,
 "nbformat_minor": 4
}
