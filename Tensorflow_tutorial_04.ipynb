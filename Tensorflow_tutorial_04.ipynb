{
 "cells": [
  {
   "cell_type": "code",
   "execution_count": 2,
   "metadata": {},
   "outputs": [
    {
     "name": "stdout",
     "output_type": "stream",
     "text": [
      "Epoch 1/10\n",
      "  2/702 [..............................] - ETA: 1:52 - loss: 0.6930 - accuracy: 0.5781WARNING:tensorflow:Method (on_train_batch_end) is slow compared to the batch update (0.129653). Check your callbacks.\n",
      "702/702 [==============================] - 60s 85ms/step - loss: 0.6025 - accuracy: 0.6656 - val_loss: 0.5487 - val_accuracy: 0.7242\n",
      "Epoch 2/10\n",
      "702/702 [==============================] - 58s 83ms/step - loss: 0.5112 - accuracy: 0.7499 - val_loss: 0.5231 - val_accuracy: 0.7491\n",
      "Epoch 3/10\n",
      "702/702 [==============================] - 57s 81ms/step - loss: 0.4768 - accuracy: 0.7744 - val_loss: 0.4898 - val_accuracy: 0.7679\n",
      "Epoch 4/10\n",
      "702/702 [==============================] - 58s 82ms/step - loss: 0.4546 - accuracy: 0.7874 - val_loss: 0.4719 - val_accuracy: 0.7892\n",
      "Epoch 5/10\n",
      "702/702 [==============================] - 61s 87ms/step - loss: 0.4309 - accuracy: 0.8008 - val_loss: 0.4634 - val_accuracy: 0.7848\n",
      "Epoch 6/10\n",
      "702/702 [==============================] - 54s 76ms/step - loss: 0.4124 - accuracy: 0.8124 - val_loss: 0.4506 - val_accuracy: 0.7852\n",
      "Epoch 7/10\n",
      "702/702 [==============================] - 50s 72ms/step - loss: 0.3907 - accuracy: 0.8263 - val_loss: 0.4748 - val_accuracy: 0.7876\n",
      "Epoch 8/10\n",
      "702/702 [==============================] - 50s 71ms/step - loss: 0.3689 - accuracy: 0.8359 - val_loss: 0.4372 - val_accuracy: 0.7980\n",
      "Epoch 9/10\n",
      "702/702 [==============================] - 50s 72ms/step - loss: 0.3519 - accuracy: 0.8474 - val_loss: 0.4276 - val_accuracy: 0.8016\n",
      "Epoch 10/10\n",
      "702/702 [==============================] - 50s 72ms/step - loss: 0.3361 - accuracy: 0.8523 - val_loss: 0.4319 - val_accuracy: 0.8052\n"
     ]
    },
    {
     "data": {
      "text/plain": [
       "<tensorflow.python.keras.callbacks.History at 0x1c18293c2e8>"
      ]
     },
     "execution_count": 2,
     "metadata": {},
     "output_type": "execute_result"
    }
   ],
   "source": [
    "import numpy as np\n",
    "import tensorflow as tf\n",
    "from tensorflow.keras.datasets import cifar10\n",
    "from tensorflow.keras.preprocessing.image import ImageDataGenerator\n",
    "from tensorflow.keras.models import Sequential\n",
    "from tensorflow.keras.layers import Dense, Dropout, Activation, Flatten, Conv2D, MaxPooling2D\n",
    "from tensorflow.keras.callbacks import TensorBoard\n",
    "import pickle\n",
    "import time\n",
    "\n",
    "NAME = \"Cats-vs-dogs-cnn-64x2-{}\".format(int(time.time()))\n",
    "\n",
    "tensorboard = TensorBoard(log_dir = 'logs/{}'.format(NAME))\n",
    "\n",
    "gpu_options = tf.compat.v1.GPUOptions(per_process_gpu_memory_fraction = 0.333)\n",
    "sess = tf.compat.v1.Session(config = tf.compat.v1.ConfigProto(gpu_options = gpu_options))\n",
    "\n",
    "\n",
    "X = pickle.load(open(\"X.pickle\", \"rb\"))\n",
    "y = pickle.load(open(\"y.pickle\", \"rb\"))\n",
    "\n",
    "X = X/255.0\n",
    "y = np.array(y)\n",
    "\n",
    "model = Sequential()\n",
    "model.add(Conv2D(64, (3, 3), input_shape = X.shape[1:]))\n",
    "model.add(Activation(\"relu\"))\n",
    "model.add(MaxPooling2D(pool_size = (2, 2)))\n",
    "\n",
    "model.add(Conv2D(64, (3, 3)))\n",
    "model.add(Activation(\"relu\"))\n",
    "model.add(MaxPooling2D(pool_size = (2, 2)))\n",
    "\n",
    "model.add(Flatten())#2D -> 1D\n",
    "\n",
    "model.add(Dense(1))\n",
    "model.add(Activation('sigmoid'))\n",
    "\n",
    "model.compile(loss = \"binary_crossentropy\", optimizer = \"adam\", \n",
    "              metrics = ['accuracy'])\n",
    "\n",
    "model.fit(X, y, batch_size = 32, epochs = 10, \n",
    "          validation_split = 0.1, callbacks = [tensorboard])"
   ]
  },
  {
   "cell_type": "code",
   "execution_count": null,
   "metadata": {},
   "outputs": [],
   "source": []
  }
 ],
 "metadata": {
  "kernelspec": {
   "display_name": "Python 3",
   "language": "python",
   "name": "python3"
  },
  "language_info": {
   "codemirror_mode": {
    "name": "ipython",
    "version": 3
   },
   "file_extension": ".py",
   "mimetype": "text/x-python",
   "name": "python",
   "nbconvert_exporter": "python",
   "pygments_lexer": "ipython3",
   "version": "3.7.0"
  }
 },
 "nbformat": 4,
 "nbformat_minor": 4
}
